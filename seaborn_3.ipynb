{
 "cells": [
  {
   "cell_type": "markdown",
   "id": "69959bbc",
   "metadata": {},
   "source": [
    "# Overview of seaborn plotting functions\n",
    "### 主要繪圖功能分成三大類\n",
    "### ![image.png](attachment:cf7b1011-dc6e-4b52-b9ca-f52dfa2c6f1f.png)"
   ]
  },
  {
   "cell_type": "markdown",
   "id": "2b8a5b7e",
   "metadata": {},
   "source": [
    "# Visualizing statistical relationships\n",
    "### https://seaborn.pydata.org/tutorial/relational.html\n",
    "### 統計分析是了解資料集中的變數如何相互關聯以及這些關係如何依賴其他變數的過程。視覺化可以成為此過程的核心組成部分，因為當資料正確視覺化時，人類視覺系統可以看到表明關係的趨勢和模式。最常用的是 relplot()，用於使用兩種常見方法來視覺化統計關係：散點圖(scatter plots)和線圖(line plots)。\n",
    "\n",
    "### scatterplot() (with kind=\"scatter\"; the default)\n",
    "### lineplot() (with kind=\"line\")"
   ]
  },
  {
   "cell_type": "code",
   "execution_count": null,
   "id": "a533cbdc",
   "metadata": {},
   "outputs": [],
   "source": []
  }
 ],
 "metadata": {
  "language_info": {
   "name": "python"
  }
 },
 "nbformat": 4,
 "nbformat_minor": 5
}
