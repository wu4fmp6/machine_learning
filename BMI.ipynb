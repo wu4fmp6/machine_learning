{
 "cells": [
  {
   "cell_type": "code",
   "execution_count": null,
   "id": "53b29dce",
   "metadata": {},
   "outputs": [
    {
     "data": {
      "text/plain": [
       "26.122448979591837"
      ]
     },
     "execution_count": 2,
     "metadata": {},
     "output_type": "execute_result"
    }
   ],
   "source": [
    "# 練習題\n",
    "# 請計算你的BMI指數 體重除以身高平方\n",
    "a = 80/(1.75**2)\n",
    "a"
   ]
  },
  {
   "cell_type": "code",
   "execution_count": null,
   "id": "c5bdf9ef",
   "metadata": {},
   "outputs": [],
   "source": [
    "# 練習題\n",
    "# 請讓使用者輸入身高與體重後，計算BMI值並進行範圍判斷\n",
    "# 可以參考 https://depart.femh.org.tw/dietary/3OPD/BMI.htm\n",
    "\n",
    "w = input(\"請輸入體重(公斤):\")\n",
    "L = input(\"請輸入身高(公尺):\")\n",
    "BMI = w/(L**2)\n",
    "x = int(BMI)\n",
    "\n",
    "if x < 18.5:\n",
    "    print(\"體重過輕\")\n",
    "elif 18.5<= x < 24:\n",
    "    Print(\"體重正常\")\n",
    "elif 24 <= x < 27:\n",
    "    print(\"過重\")\n",
    "elif 27 <= x < 30:\n",
    "    print(\"輕度肥胖\")\n",
    "elif 30<= x < 35:\n",
    "    print(\"中度肥胖\")\n",
    "elif 35<= x:\n",
    "    print(\"重度肥胖\")\n",
    "else:\n",
    "    print(\"資料錯誤\")"
   ]
  }
 ],
 "metadata": {
  "kernelspec": {
   "display_name": "base",
   "language": "python",
   "name": "python3"
  },
  "language_info": {
   "codemirror_mode": {
    "name": "ipython",
    "version": 3
   },
   "file_extension": ".py",
   "mimetype": "text/x-python",
   "name": "python",
   "nbconvert_exporter": "python",
   "pygments_lexer": "ipython3",
   "version": "3.12.9"
  }
 },
 "nbformat": 4,
 "nbformat_minor": 5
}
