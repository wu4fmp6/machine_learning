{
 "cells": [
  {
   "cell_type": "code",
   "execution_count": 13,
   "id": "5dc5e7f9",
   "metadata": {},
   "outputs": [
    {
     "data": {
      "text/plain": [
       "Index(['員工編號(EmployeeNumber)', '性別(Gender)', '年齡(Age)', '是否為成年人(Over18)',\n",
       "       '婚姻狀態(MaritalStatus)', '通勤距離(DistanceFromHome)', '教育程度(Education)',\n",
       "       '教育專業領域(EducationField)', '部門(Department)', '職位名稱(JobRole)',\n",
       "       '職位等級(JobLevel)', '在該公司工作總年資(YearsAtCompany)',\n",
       "       '在該職位工作年資(YearsInCurrentRole)', '在該職等工作年資(YearsSinceLastPromotion)',\n",
       "       '與現任管理者工作年資(YearsWithCurrManager)', '總工作年資(TotalWorkingYears)',\n",
       "       '過去工作公司家數(NumCompaniesWorked)', '每日工資額(DailyRate)',\n",
       "       '每小時工資額(HourlyRate)', '月收入(MonthlyIncome)', '月費率(MonthlyRate)',\n",
       "       '標準工作時間(StandardHours)', '加班(OverTime)', '調薪百分比(PercentSalaryHike)',\n",
       "       '股票選擇權等級(StockOptionLevel)', '績效評估(PerformanceRating)',\n",
       "       '出差頻率(BusinessTravel)', '去年訓練時間(TrainingTimesLastYear)',\n",
       "       '工作滿意度(JobSatisfaction)', '工作環境滿意度(EnvironmentSatisfaction)',\n",
       "       '工作投入(JobInvolvement)', '工作生活平衡(WorkLifeBalance)',\n",
       "       '人際關係滿意度(RelationshipSatisfaction)', '離職(Attrition)'],\n",
       "      dtype='object')"
      ]
     },
     "execution_count": 13,
     "metadata": {},
     "output_type": "execute_result"
    }
   ],
   "source": [
    "import pandas as pd\n",
    "data = pd.read_excel('/home/machine_learning/data-20250621T015705Z-1-001/data/R公司_人員資料.xlsx')\n",
    "data.columns"
   ]
  },
  {
   "cell_type": "code",
   "execution_count": 15,
   "id": "2a90ec72",
   "metadata": {},
   "outputs": [
    {
     "data": {
      "text/plain": [
       "0       41\n",
       "1       49\n",
       "2       37\n",
       "3       33\n",
       "4       27\n",
       "        ..\n",
       "1465    36\n",
       "1466    39\n",
       "1467    27\n",
       "1468    49\n",
       "1469    34\n",
       "Name: 年齡(Age), Length: 1470, dtype: int64"
      ]
     },
     "execution_count": 15,
     "metadata": {},
     "output_type": "execute_result"
    }
   ],
   "source": [
    "data['年齡(Age)']"
   ]
  },
  {
   "cell_type": "code",
   "execution_count": 16,
   "id": "e3bcbce4",
   "metadata": {},
   "outputs": [
    {
     "data": {
      "text/html": [
       "<div>\n",
       "<style scoped>\n",
       "    .dataframe tbody tr th:only-of-type {\n",
       "        vertical-align: middle;\n",
       "    }\n",
       "\n",
       "    .dataframe tbody tr th {\n",
       "        vertical-align: top;\n",
       "    }\n",
       "\n",
       "    .dataframe thead th {\n",
       "        text-align: right;\n",
       "    }\n",
       "</style>\n",
       "<table border=\"1\" class=\"dataframe\">\n",
       "  <thead>\n",
       "    <tr style=\"text-align: right;\">\n",
       "      <th></th>\n",
       "      <th>年齡(Age)</th>\n",
       "      <th>總工作年資(TotalWorkingYears)</th>\n",
       "    </tr>\n",
       "  </thead>\n",
       "  <tbody>\n",
       "    <tr>\n",
       "      <th>0</th>\n",
       "      <td>41</td>\n",
       "      <td>8</td>\n",
       "    </tr>\n",
       "    <tr>\n",
       "      <th>1</th>\n",
       "      <td>49</td>\n",
       "      <td>10</td>\n",
       "    </tr>\n",
       "    <tr>\n",
       "      <th>2</th>\n",
       "      <td>37</td>\n",
       "      <td>7</td>\n",
       "    </tr>\n",
       "    <tr>\n",
       "      <th>3</th>\n",
       "      <td>33</td>\n",
       "      <td>8</td>\n",
       "    </tr>\n",
       "    <tr>\n",
       "      <th>4</th>\n",
       "      <td>27</td>\n",
       "      <td>6</td>\n",
       "    </tr>\n",
       "    <tr>\n",
       "      <th>...</th>\n",
       "      <td>...</td>\n",
       "      <td>...</td>\n",
       "    </tr>\n",
       "    <tr>\n",
       "      <th>1465</th>\n",
       "      <td>36</td>\n",
       "      <td>17</td>\n",
       "    </tr>\n",
       "    <tr>\n",
       "      <th>1466</th>\n",
       "      <td>39</td>\n",
       "      <td>9</td>\n",
       "    </tr>\n",
       "    <tr>\n",
       "      <th>1467</th>\n",
       "      <td>27</td>\n",
       "      <td>6</td>\n",
       "    </tr>\n",
       "    <tr>\n",
       "      <th>1468</th>\n",
       "      <td>49</td>\n",
       "      <td>17</td>\n",
       "    </tr>\n",
       "    <tr>\n",
       "      <th>1469</th>\n",
       "      <td>34</td>\n",
       "      <td>6</td>\n",
       "    </tr>\n",
       "  </tbody>\n",
       "</table>\n",
       "<p>1470 rows × 2 columns</p>\n",
       "</div>"
      ],
      "text/plain": [
       "      年齡(Age)  總工作年資(TotalWorkingYears)\n",
       "0          41                         8\n",
       "1          49                        10\n",
       "2          37                         7\n",
       "3          33                         8\n",
       "4          27                         6\n",
       "...       ...                       ...\n",
       "1465       36                        17\n",
       "1466       39                         9\n",
       "1467       27                         6\n",
       "1468       49                        17\n",
       "1469       34                         6\n",
       "\n",
       "[1470 rows x 2 columns]"
      ]
     },
     "execution_count": 16,
     "metadata": {},
     "output_type": "execute_result"
    }
   ],
   "source": [
    "data[['年齡(Age)','總工作年資(TotalWorkingYears)']]"
   ]
  }
 ],
 "metadata": {
  "kernelspec": {
   "display_name": "base",
   "language": "python",
   "name": "python3"
  },
  "language_info": {
   "codemirror_mode": {
    "name": "ipython",
    "version": 3
   },
   "file_extension": ".py",
   "mimetype": "text/x-python",
   "name": "python",
   "nbconvert_exporter": "python",
   "pygments_lexer": "ipython3",
   "version": "3.12.9"
  }
 },
 "nbformat": 4,
 "nbformat_minor": 5
}
