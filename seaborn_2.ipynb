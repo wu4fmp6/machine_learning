{
 "cells": [
  {
   "cell_type": "markdown",
   "id": "c3d3a940",
   "metadata": {},
   "source": [
    "# Overview of seaborn plotting functions\n",
    "主要繪圖功能分成三大類\n",
    "![image.png](attachment:cf7b1011-dc6e-4b52-b9ca-f52dfa2c6f1f.png)"
   ]
  }
 ],
 "metadata": {
  "language_info": {
   "name": "python"
  }
 },
 "nbformat": 4,
 "nbformat_minor": 5
}
